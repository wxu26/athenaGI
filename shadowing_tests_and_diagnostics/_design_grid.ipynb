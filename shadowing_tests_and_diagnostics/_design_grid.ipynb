{
 "cells": [
  {
   "cell_type": "code",
   "execution_count": 1,
   "id": "394555fa-0251-4b28-85b5-bc65717bd7ce",
   "metadata": {},
   "outputs": [],
   "source": [
    "import numpy as np\n",
    "import matplotlib.pyplot as plt"
   ]
  },
  {
   "cell_type": "code",
   "execution_count": 2,
   "id": "81387a4f-ecad-4e7b-a8e5-25c4c1f1a564",
   "metadata": {},
   "outputs": [],
   "source": [
    "def estimate_dth_lo(nth_hi=8, h_hi=0.05, dth_pole=0.3, max_rat=1.5):\n",
    "    \"\"\"\n",
    "    Args:\n",
    "        nth_hi: # of th cells over h_hi\n",
    "        h_hi: high-res region thickness\n",
    "        dth_pole: resolution at pole\n",
    "        max_rat: max x2rat between cells\n",
    "    Returns:\n",
    "        nth_lo: minimum # of cells in low-res region\n",
    "    \"\"\"\n",
    "    dth = h_hi/nth_hi\n",
    "    th = h_hi\n",
    "    nth_lo = 0\n",
    "    while th<np.pi/2:\n",
    "        dth *= max_rat\n",
    "        dth = min(dth, dth_pole)\n",
    "        nth_lo += 1\n",
    "        th += dth\n",
    "    print('minimum nth_lo: {}\\nminimum total nth for [0,pi/2]: {}'.format(nth_lo, nth_hi+nth_lo))\n",
    "    return nth_lo"
   ]
  },
  {
   "cell_type": "code",
   "execution_count": 3,
   "id": "3b4d1e6d-30fc-4b0c-aed1-72004e588763",
   "metadata": {},
   "outputs": [],
   "source": [
    "from MeshGen import MeshGenOnePoint\n",
    "\n",
    "def preview_grid(nth_lo=12, nth_hi=8, h_hi=0.05, dth_pole=0.3):\n",
    "    \"\"\"\n",
    "    Args:\n",
    "        nth_lo: # of th cells in low-res region [h_hi, pi/2]\n",
    "        nth_hi: # of th cells over h_hi\n",
    "        h_hi: high-res region thickness\n",
    "        dth_pole: resolution at pole\n",
    "    Return:\n",
    "        None (plots grid and print max x2rat)\n",
    "    \"\"\"\n",
    "    thf = (np.pi/2-np.array([MeshGenOnePoint(n, nth_lo, nth_hi, dth_pole, h_hi) for n in np.arange(nth_lo+nth_hi+1)]))[::-1]\n",
    "    # plot grid\n",
    "    plt.figure()\n",
    "    plt.xticks([])\n",
    "    plt.yticks([])\n",
    "    plt.gca().set_aspect('equal', 'box')\n",
    "    rf = np.array([0.5, 1])\n",
    "    xf, zf = rf[None,:]*np.sin(thf[:,None]), rf[None,:]*np.cos(thf[:,None])\n",
    "    plt.pcolormesh(xf, zf, np.zeros((len(thf)-1, len(rf)-1))*np.nan, edgecolor='k', lw=.5)\n",
    "    # print max x2rat\n",
    "    dth = thf[1:]-thf[:-1]\n",
    "    x2rat = dth[:-1]/dth[1:]\n",
    "    print('total nth for [0,pi/2]: {}'.format(nth_hi+nth_lo))\n",
    "    print('max x2rat: {}'.format(np.amax(x2rat)))\n",
    "    return"
   ]
  },
  {
   "cell_type": "code",
   "execution_count": 4,
   "id": "bf5a3331-6386-4886-9a82-3ca4a5e7ec0f",
   "metadata": {},
   "outputs": [],
   "source": [
    "def factor(a, b):\n",
    "    # find largest c such that a = c*a1 and b = c*b1\n",
    "    c = 1\n",
    "    c_try = 1\n",
    "    while c_try<a:\n",
    "        c_try+=1\n",
    "        if a%c_try==0 and b%c_try==0: c=c_try\n",
    "    return c, a//c, b//c"
   ]
  },
  {
   "cell_type": "code",
   "execution_count": 5,
   "id": "84235a52-d2a7-4d3b-bb4b-c936aca08b3a",
   "metadata": {},
   "outputs": [],
   "source": [
    "def estimate_resolution(n_core=120, nth=48, dlogr=0.05/8, dphi=0.05/8, r_in=0.25, r_out=1.5):\n",
    "    nphi_goal = np.pi*2 / dphi\n",
    "    nr_goal = np.log(r_out/r_in) / np.log(1+dlogr)\n",
    "    print('(nr, nth, nphi) for specified resolution: ({}, {}, {})'.format(int(nr_goal), nth, int(nphi_goal)))\n",
    "    # modify nphi: slightly reduce from nphi_goal\n",
    "    _, x, _ = factor(n_core, nth)\n",
    "    nphi = int(nphi_goal/x) * x\n",
    "    # modify nr: slightly increase from nr_goal\n",
    "    nr = (int((nr_goal-1)/x)+1) * x\n",
    "    _, y, _ = factor(n_core, nphi)\n",
    "    while nr%y: nr+=x\n",
    "    print('(nr, nth, nphi) after correction: ({}, {}, {})'.format(nr, nth, nphi))\n",
    "    nc = int(nr*nth*nphi/n_core)\n",
    "    print('n cell per meshblock = {} ~ {:.1f}^3'.format(nc, nc**(1/3)))"
   ]
  },
  {
   "cell_type": "code",
   "execution_count": 6,
   "id": "5d9d5632-46a7-4f1b-ab53-a7e72553f351",
   "metadata": {},
   "outputs": [],
   "source": [
    "def optimize_meshblock(nr, nth, nphi, n_core):\n",
    "    # sanity check\n",
    "    if nth%factor(n_core, nr)[1] or nphi%factor(n_core, nr)[1] or nth%factor(n_core, nphi)[1]:\n",
    "        print('does not satisfy remap requirements!')\n",
    "        return\n",
    "    # factorize\n",
    "    f_min = np.inf\n",
    "    n = [0,0,0]\n",
    "    for n1 in range(1,n_core+1):\n",
    "        if n_core%n1: continue\n",
    "        for n2 in range(1,n_core//n1+1):\n",
    "            if n_core%(n1*n2): continue\n",
    "            n3 = n_core//(n1*n2)\n",
    "            if nr%n1 or nth%n2 or nphi%n3: continue\n",
    "            # how close to square?\n",
    "            n_this = [nr//n1, nth//n2, nphi//n3]\n",
    "            f_this = np.amax(n_this)/np.amin(n_this)\n",
    "            if f_this<f_min:\n",
    "                n = n_this\n",
    "                f_min = f_this\n",
    "    print('meshblock size: {} ~ {:.1f}^3'.format(n, np.prod(n)**(1/3)))\n",
    "    return n"
   ]
  },
  {
   "cell_type": "code",
   "execution_count": 7,
   "id": "b0ed28bb-c0ec-4d5b-89a8-c6ae1a045335",
   "metadata": {},
   "outputs": [],
   "source": [
    "def generate_grid(\n",
    "    nr=300, r_min=0.25, r_max=1.5,\n",
    "    nphi=960,\n",
    "    nth_lo=16, nth_hi=8, h_hi=0.05, dth_pole=0.3,\n",
    "    n_core=480,\n",
    "):\n",
    "    dth_mid = h_hi/nth_hi\n",
    "    x1rat = (r_max/r_min)**(1/nr)\n",
    "    dphi = np.pi*2/nphi\n",
    "    print('dlogr/dth_mid = {:.2f}'.format(np.log(x1rat)/dth_mid))\n",
    "    print('dphi/dth_mid = {:.2f}'.format(dphi/dth_mid))\n",
    "    nth = 2*(nth_lo+nth_hi)\n",
    "    n = optimize_meshblock(nr, nth, nphi, n_core)\n",
    "    print('\\n\\n\\n')\n",
    "    # generate mesh and meshblock sections of input file\n",
    "    s = '\\\n",
    "<mesh>\\n\\\n",
    "nx1        = {}\\n\\\n",
    "x1min      = {}\\n\\\n",
    "x1max      = {}\\n\\\n",
    "x1rat      = {}\\n\\\n",
    "ix1_bc     = outflow\\n\\\n",
    "ox1_bc     = user\\n\\\n",
    "\\n\\\n",
    "nx2        = {}\\n\\\n",
    "x2min      = 0.0\\n\\\n",
    "x2max      = 3.1415926535897932\\n\\\n",
    "x2rat      = -1 # user-defined mesh generator\\n\\\n",
    "nth_lo     = {}\\n\\\n",
    "nth_hi     = {}\\n\\\n",
    "h_hi       = {}\\n\\\n",
    "dth_pole   = {}\\n\\\n",
    "ix2_bc     = polar\\n\\\n",
    "ox2_bc     = polar\\n\\\n",
    "\\n\\\n",
    "nx3        = {}\\n\\\n",
    "x3min      = 0.0\\n\\\n",
    "x3max      = 6.283185307179586\\n\\\n",
    "ix3_bc     = periodic\\n\\\n",
    "ox3_bc     = periodic\\n\\\n",
    "\\n\\\n",
    "<meshblock>\\n\\\n",
    "nx1        = {}\\n\\\n",
    "nx2        = {}\\n\\\n",
    "nx3        = {}\\n\\\n",
    "    '.format(nr, r_min, r_max, x1rat,\n",
    "             nth, nth_lo, nth_hi, h_hi, dth_pole,\n",
    "             nphi,\n",
    "             n[0],n[1],n[2])\n",
    "    print(s)\n",
    "    return"
   ]
  },
  {
   "cell_type": "code",
   "execution_count": 8,
   "id": "ceb4358c-2e33-4a34-ac1f-230e69d2a9c0",
   "metadata": {},
   "outputs": [
    {
     "name": "stdout",
     "output_type": "stream",
     "text": [
      "minimum nth_lo: 15\n",
      "minimum total nth for [0,pi/2]: 79\n"
     ]
    }
   ],
   "source": [
    "_ = estimate_dth_lo(nth_hi=64, h_hi=0.5, dth_pole=0.1, max_rat=1.5)"
   ]
  },
  {
   "cell_type": "code",
   "execution_count": 10,
   "id": "344bcda4-7038-4de4-9fe3-43bef0ea62cb",
   "metadata": {},
   "outputs": [
    {
     "name": "stdout",
     "output_type": "stream",
     "text": [
      "total nth for [0,pi/2]: 80\n",
      "max x2rat: 1.3600899096851702\n"
     ]
    },
    {
     "data": {
      "image/png": "[encoded data removed]",
      "text/plain": [
       "<Figure size 640x480 with 1 Axes>"
      ]
     },
     "metadata": {},
     "output_type": "display_data"
    }
   ],
   "source": [
    "preview_grid(nth_lo=16, nth_hi=64, h_hi=0.5, dth_pole=0.1)\n",
    "plt.plot([0,1],[0,np.tan(np.pi/6)], 'r')\n",
    "plt.show()"
   ]
  },
  {
   "cell_type": "code",
   "execution_count": 16,
   "id": "1d5bb240-e8aa-4ada-bc65-2fe8e9eeb590",
   "metadata": {},
   "outputs": [
    {
     "name": "stdout",
     "output_type": "stream",
     "text": [
      "(nr, nth, nphi) for specified resolution: (84, 16, 251)\n",
      "(nr, nth, nphi) after correction: (90, 16, 240)\n",
      "n cell per meshblock = 2880 ~ 14.2^3\n"
     ]
    }
   ],
   "source": [
    "estimate_resolution(n_core=120, nth=16, dlogr=0.05/2, dphi=0.05/2, r_in=0.25, r_out=2)"
   ]
  },
  {
   "cell_type": "code",
   "execution_count": 11,
   "id": "89506219-cb88-4b73-8096-5730d9a6ba0a",
   "metadata": {},
   "outputs": [
    {
     "name": "stdout",
     "output_type": "stream",
     "text": [
      "meshblock size: [45, 16, 30] ~ 27.8^3\n"
     ]
    },
    {
     "data": {
      "text/plain": [
       "[45, 16, 30]"
      ]
     },
     "execution_count": 11,
     "metadata": {},
     "output_type": "execute_result"
    }
   ],
   "source": [
    "optimize_meshblock(nr=90, nth=16, nphi=240, n_core=16)"
   ]
  },
  {
   "cell_type": "code",
   "execution_count": 19,
   "id": "887e10f5-a8bc-416b-828e-60e3daeab99e",
   "metadata": {
    "tags": []
   },
   "outputs": [
    {
     "name": "stdout",
     "output_type": "stream",
     "text": [
      "dlogr/dth_mid = 1.85\n",
      "dphi/dth_mid = 2.09\n",
      "meshblock size: [18, 16, 20] ~ 17.9^3\n",
      "\n",
      "\n",
      "\n",
      "\n",
      "<mesh>\n",
      "nx1        = 90\n",
      "x1min      = 0.25\n",
      "x1max      = 2\n",
      "x1rat      = 1.023373891996775\n",
      "ix1_bc     = outflow\n",
      "ox1_bc     = user\n",
      "\n",
      "nx2        = 32\n",
      "x2min      = 0.0\n",
      "x2max      = 3.1415926535897932\n",
      "x2rat      = -1 # user-defined mesh generator\n",
      "nth_lo     = 12\n",
      "nth_hi     = 4\n",
      "h_hi       = 0.05\n",
      "dth_pole   = 0.3\n",
      "ix2_bc     = polar\n",
      "ox2_bc     = polar\n",
      "\n",
      "nx3        = 240\n",
      "x3min      = 0.0\n",
      "x3max      = 6.283185307179586\n",
      "ix3_bc     = periodic\n",
      "ox3_bc     = periodic\n",
      "\n",
      "<meshblock>\n",
      "nx1        = 18\n",
      "nx2        = 16\n",
      "nx3        = 20\n",
      "    \n"
     ]
    }
   ],
   "source": [
    "generate_grid(\n",
    "    nr=90, r_min=0.25, r_max=2,\n",
    "    nphi=240,\n",
    "    nth_lo=12, nth_hi=4, h_hi=0.05, dth_pole=0.3,\n",
    "    n_core=120,\n",
    ")"
   ]
  },
  {
   "cell_type": "code",
   "execution_count": 115,
   "id": "f82bf887-fd5b-421f-9d46-7c82e03d10f8",
   "metadata": {},
   "outputs": [
    {
     "name": "stdout",
     "output_type": "stream",
     "text": [
      "dlogr/dth_mid = 0.96\n",
      "dphi/dth_mid = 1.05\n",
      "meshblock size: [30, 24, 40] ~ 30.7^3\n",
      "\n",
      "\n",
      "\n",
      "\n",
      "<mesh>\n",
      "nx1        = 300\n",
      "x1min      = 0.25\n",
      "x1max      = 1.5\n",
      "x1rat      = 1.005990402691645\n",
      "ix1_bc     = outflow\n",
      "ox1_bc     = user\n",
      "\n",
      "nx2        = 48\n",
      "x2min      = 0.0\n",
      "x2max      = 3.1415926535897932\n",
      "x2rat      = -1 # user-defined mesh generator\n",
      "nth_lo     = 16\n",
      "nth_hi     = 8\n",
      "h_hi       = 0.05\n",
      "dth_pole   = 0.3\n",
      "ix2_bc     = polar\n",
      "ox2_bc     = polar\n",
      "\n",
      "nx3        = 960\n",
      "x3min      = 0.0\n",
      "x3max      = 6.283185307179586\n",
      "ix3_bc     = periodic\n",
      "ox3_bc     = periodic\n",
      "\n",
      "<meshblock>\n",
      "nx1        = 30\n",
      "nx2        = 24\n",
      "nx3        = 40\n",
      "    \n"
     ]
    }
   ],
   "source": [
    "generate_grid(\n",
    "    nr=300, r_min=0.25, r_max=1.5,\n",
    "    nphi=960,\n",
    "    nth_lo=16, nth_hi=8, h_hi=0.05, dth_pole=0.3,\n",
    "    n_core=480,\n",
    ")"
   ]
  },
  {
   "cell_type": "code",
   "execution_count": 9,
   "id": "0f9da575-46cf-4fea-9e81-410b28838f97",
   "metadata": {},
   "outputs": [
    {
     "name": "stdout",
     "output_type": "stream",
     "text": [
      "dlogr/dth_mid = 1.44\n",
      "dphi/dth_mid = 2.09\n",
      "meshblock size: [25, 24, 24] ~ 24.3^3\n",
      "\n",
      "\n",
      "\n",
      "\n",
      "<mesh>\n",
      "nx1        = 300\n",
      "x1min      = 0.1\n",
      "x1max      = 1.5\n",
      "x1rat      = 1.0090676987369098\n",
      "ix1_bc     = outflow\n",
      "ox1_bc     = user\n",
      "\n",
      "nx2        = 48\n",
      "x2min      = 0.0\n",
      "x2max      = 3.1415926535897932\n",
      "x2rat      = -1 # user-defined mesh generator\n",
      "nth_lo     = 16\n",
      "nth_hi     = 8\n",
      "h_hi       = 0.05\n",
      "dth_pole   = 0.3\n",
      "ix2_bc     = polar\n",
      "ox2_bc     = polar\n",
      "\n",
      "nx3        = 480\n",
      "x3min      = 0.0\n",
      "x3max      = 6.283185307179586\n",
      "ix3_bc     = periodic\n",
      "ox3_bc     = periodic\n",
      "\n",
      "<meshblock>\n",
      "nx1        = 25\n",
      "nx2        = 24\n",
      "nx3        = 24\n",
      "    \n"
     ]
    }
   ],
   "source": [
    "generate_grid(\n",
    "    nr=300, r_min=0.1, r_max=1.5,\n",
    "    nphi=480,\n",
    "    nth_lo=16, nth_hi=8, h_hi=0.05, dth_pole=0.3,\n",
    "    n_core=480,\n",
    ")"
   ]
  },
  {
   "cell_type": "code",
   "execution_count": 10,
   "id": "07e1343e-5310-4aa9-a959-1cc9a006cb25",
   "metadata": {},
   "outputs": [
    {
     "name": "stdout",
     "output_type": "stream",
     "text": [
      "dlogr/dth_mid = 1.91\n",
      "dphi/dth_mid = 2.09\n",
      "meshblock size: [25, 24, 24] ~ 24.3^3\n",
      "\n",
      "\n",
      "\n",
      "\n",
      "<mesh>\n",
      "nx1        = 150\n",
      "x1min      = 0.25\n",
      "x1max      = 1.5\n",
      "x1rat      = 1.0120166903076984\n",
      "ix1_bc     = outflow\n",
      "ox1_bc     = user\n",
      "\n",
      "nx2        = 48\n",
      "x2min      = 0.0\n",
      "x2max      = 3.1415926535897932\n",
      "x2rat      = -1 # user-defined mesh generator\n",
      "nth_lo     = 16\n",
      "nth_hi     = 8\n",
      "h_hi       = 0.05\n",
      "dth_pole   = 0.3\n",
      "ix2_bc     = polar\n",
      "ox2_bc     = polar\n",
      "\n",
      "nx3        = 480\n",
      "x3min      = 0.0\n",
      "x3max      = 6.283185307179586\n",
      "ix3_bc     = periodic\n",
      "ox3_bc     = periodic\n",
      "\n",
      "<meshblock>\n",
      "nx1        = 25\n",
      "nx2        = 24\n",
      "nx3        = 24\n",
      "    \n"
     ]
    }
   ],
   "source": [
    "generate_grid(\n",
    "    nr=150, r_min=0.25, r_max=1.5,\n",
    "    nphi=480,\n",
    "    nth_lo=16, nth_hi=8, h_hi=0.05, dth_pole=0.3,\n",
    "    n_core=240,\n",
    ")"
   ]
  },
  {
   "cell_type": "code",
   "execution_count": 9,
   "id": "589806e9-9761-4fac-866a-fea0c42274ec",
   "metadata": {},
   "outputs": [
    {
     "name": "stdout",
     "output_type": "stream",
     "text": [
      "meshblock size: [24, 16, 20] ~ 19.7^3\n"
     ]
    },
    {
     "data": {
      "text/plain": [
       "[24, 16, 20]"
      ]
     },
     "execution_count": 9,
     "metadata": {},
     "output_type": "execute_result"
    }
   ],
   "source": [
    "optimize_meshblock(nr=480, nth=32, nphi=240, n_core=480)"
   ]
  },
  {
   "cell_type": "code",
   "execution_count": null,
   "id": "5d32c0b5-9e9c-49d1-8cd6-61ca6c3d251c",
   "metadata": {},
   "outputs": [],
   "source": []
  }
 ],
 "metadata": {
  "kernelspec": {
   "display_name": "Python 3 (ipykernel)",
   "language": "python",
   "name": "python3"
  },
  "language_info": {
   "codemirror_mode": {
    "name": "ipython",
    "version": 3
   },
   "file_extension": ".py",
   "mimetype": "text/x-python",
   "name": "python",
   "nbconvert_exporter": "python",
   "pygments_lexer": "ipython3",
   "version": "3.12.6"
  }
 },
 "nbformat": 4,
 "nbformat_minor": 5
}
